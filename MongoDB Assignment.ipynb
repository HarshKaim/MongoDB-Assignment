{
 "cells": [
  {
   "cell_type": "markdown",
   "id": "b42d3675-4696-4655-a3b4-1f454a4371c9",
   "metadata": {},
   "source": [
    "Q1. What is MongoDB? Explain non-relational databases in short. In which scenarios it is preferred to use\n",
    "MongoDB over SQL databases?\n",
    "\n",
    "Ans. MongoDB is an open source NoSQL database which is used to store data in JSON like documents.\n",
    "\n",
    "Non relational databases are those which can store data which is not in the tabular form, data can be in the form of document or key-value pair or graphs etc. Some e.g. of non relational databases are MongoDB, cassandra etc.\n",
    "\n",
    "MongoDB should be used when the data is complex and not easy to store in tabular format or when there is heirarchy in the data. MongoDB also allows for scaling horizontally across the servers which is not possible in MySQL database."
   ]
  },
  {
   "cell_type": "markdown",
   "id": "fbed31a1-b8a3-4e71-b505-cc9a1e3ce1f2",
   "metadata": {},
   "source": [
    "Q2. State and Explain the features of MongoDB.\n",
    "\n",
    "Ans. Schema Flexibility: MongoDB provides the convenience of storing data in different strucutures in the same collection.\n",
    "\n",
    "Horizontal Scalabitlity: MongoDB allows to scale horizontally on many servers through sharding.\n"
   ]
  },
  {
   "cell_type": "markdown",
   "id": "c453bb14-c4b8-4771-b7a1-05c50a26bdde",
   "metadata": {},
   "source": [
    "Q3. Write a code to connect MongoDB to Python. Also, create a database and a collection in MongoDB.\n",
    "\n",
    "Ans. \n",
    "\n",
    "import pymongo\n",
    "\n",
    "client=pymongo.MongoClient('url to MongoDB server')\n",
    "\n",
    "db=client['database_name'] \n",
    "\n",
    "collection=db['collection_name']\n",
    "\n",
    "data={'name':'abc'}\n",
    "\n",
    "collection.insert(data)\n",
    "\n",
    "client.close()"
   ]
  },
  {
   "cell_type": "markdown",
   "id": "db20435e-bb3b-4b29-9bdb-4240deda778a",
   "metadata": {},
   "source": [
    "Q4. Using the database and the collection created in question number 3, write a code to insert one record, and insert many records. Use the find() and find_one() methods to print the inserted record.\n",
    "\n",
    "Ans. \n",
    "\n",
    "from pymongo import MongoClient\n",
    "\n",
    "client=MongoClient('url of the MongoDB server')\n",
    "\n",
    "db=client['database_name']\n",
    "\n",
    "collection=db['collection_name']\n",
    "\n",
    "data1={'name':'def'}\n",
    "\n",
    "collection.insert_one(data1)\n",
    "\n",
    "data2=[\n",
    "\n",
    "{'name': 'abc'},\n",
    "\n",
    "{'name': 'xyz'}\n",
    "\n",
    "]\n",
    "\n",
    "collection.insert_many(data2)\n",
    "\n",
    "collection.find_one({'name':'abc'})\n",
    "\n",
    "for document in collection.find():\n",
    "\n",
    "    print(document)\n",
    "\n",
    "client.close()"
   ]
  },
  {
   "cell_type": "markdown",
   "id": "f32c5dd5-c90d-4493-92fd-24c8b9b805fb",
   "metadata": {},
   "source": [
    "Q5. Explain how you can use the find() method to query the MongoDB database. Write a simple code to demonstrate this.\n",
    "\n",
    "Ans. find() method takes a query docuemnt as an argument and returns an iterable object which contains all the documents that matches the condition of the query.\n",
    "\n",
    "...\n",
    "\n",
    "for document in collection.find({'age':{\"gt\":30}}):\n",
    "\n",
    "    print(document)\n",
    "..."
   ]
  },
  {
   "cell_type": "markdown",
   "id": "a1765e91-705d-451e-bea0-876083e1ddad",
   "metadata": {},
   "source": [
    "Q6. Explain the sort() method. Give an example to demonstrate sorting in MongoDB.\n",
    "\n",
    "Ans. sort() method is used to sort the query result on the basis of the argument passed in the function. It also takes a document as argument.\n",
    "\n",
    "Let's say the data set is : [ {'age':12}, {'age':6'} ]\n",
    "\n",
    "...\n",
    "\n",
    "collection.find().sort({'age':1})\n",
    "\n",
    "...\n",
    "\n",
    "it means that we want to sort the collection on the basis of age in ascending order, for sorting in descending order the value is -1."
   ]
  },
  {
   "cell_type": "markdown",
   "id": "28e9c572-51b7-4451-b333-1746c497646e",
   "metadata": {},
   "source": [
    "Q7. Explain why delete_one(), delete_many(), and drop() is used.\n",
    "\n",
    "Ans. \n",
    "\n",
    "delete_one() method is used to delete only a single document from the collection. It deletes the first document with which the condition matches and stops the traversal.\n",
    "\n",
    "delete_many() is used to delete all the documents from the collection which matches the condition. \n",
    "\n",
    "drop() method is used to completely drop the whole collection from the database.\n",
    "\n",
    "...\n",
    "\n",
    "collection.delete_one({'name':'abc'})\n",
    "\n",
    "collection.delete_many({'age':{'$lt':18}})\n",
    "\n",
    "collection.drop()\n",
    "\n",
    "...."
   ]
  }
 ],
 "metadata": {
  "kernelspec": {
   "display_name": "Python 3 (ipykernel)",
   "language": "python",
   "name": "python3"
  },
  "language_info": {
   "codemirror_mode": {
    "name": "ipython",
    "version": 3
   },
   "file_extension": ".py",
   "mimetype": "text/x-python",
   "name": "python",
   "nbconvert_exporter": "python",
   "pygments_lexer": "ipython3",
   "version": "3.12.5"
  }
 },
 "nbformat": 4,
 "nbformat_minor": 5
}
